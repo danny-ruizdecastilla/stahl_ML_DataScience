{
 "cells": [
  {
   "cell_type": "code",
   "execution_count": null,
   "id": "0b5ee7c9-b5a6-41f7-bb7c-835ea0be0bef",
   "metadata": {},
   "outputs": [],
   "source": [
    "import sys\n",
    "import glob\n",
    "import numpy as np\n",
    "import os\n",
    "from rdkit import Chem\n",
    "import pandas as pd\n",
    "from rdkit.Chem.PandasTools import LoadSDF\n",
    "import matplotlib.pyplot as plt\n",
    "import random\n",
    "import networkx as nx\n",
    "from networkx import Graph\n",
    "from itertools import combinations\n",
    "from rapidfuzz import process\n",
    "from rapidfuzz.distance import JaroWinkler"
   ]
  },
  {
   "cell_type": "code",
   "execution_count": null,
   "id": "8cb66513-9240-48d1-ba3e-ac86568ea0b6",
   "metadata": {},
   "outputs": [],
   "source": [
    "df = pd.read_excel(\"10001_11911.xlsx\" , engine=\"openpyxl\")"
   ]
  },
  {
   "cell_type": "code",
   "execution_count": null,
   "id": "d25b7a57-17b6-4e6c-9876-cd6657bbe2a0",
   "metadata": {},
   "outputs": [],
   "source": [
    "reagent = \"3-chloro-benzenecarboperoxoic acid\"\n",
    "reagentList = df['Reagent']"
   ]
  },
  {
   "cell_type": "code",
   "execution_count": null,
   "id": "1d23b8ba-f4ee-414e-9fa6-0bff26620d4b",
   "metadata": {},
   "outputs": [],
   "source": [
    "refinedDF = df[df[\"Reagent\"] == reagent].copy()\n",
    "refinedDF.reset_index(drop=True, inplace=True)\n",
    "selected_columns = [\"Reaction ID\", \"Reaction\", \"Fulltext of reaction\" , \"Reactant\",\"Yield (numerical)\" , \"Reagent\" , \"Catalyst\" , \"References\"]  # Replace with actual column names\n",
    "\n",
    "# Select only those columns\n",
    "refinedDF = refinedDF[refinedDF['Reaction'].notna()].copy()\n",
    "refinedDF = refinedDF[selected_columns].copy()\n",
    "\n",
    "refinedDF = refinedDF[refinedDF['Yield (numerical)'].notna()].copy()\n",
    "refinedDF.reset_index(drop=True, inplace=True)\n",
    "\n",
    "print(refinedDF.shape)"
   ]
  },
  {
   "cell_type": "code",
   "execution_count": null,
   "id": "b9be783c-d752-4871-ae94-428753e8c631",
   "metadata": {},
   "outputs": [],
   "source": [
    "refinedDF"
   ]
  },
  {
   "cell_type": "code",
   "execution_count": null,
   "id": "8038bce7-dc6b-4dd8-995e-2e04689ec123",
   "metadata": {},
   "outputs": [],
   "source": [
    "#from given dataset, group \n",
    "def groupBy(df, groupVar):\n",
    "    parameters = np.array(df[groupVar])\n",
    "    parameters = np.unique(parameters)\n",
    "    dfMAST = []\n",
    "    \n",
    "    for i in range (len(parameters)):\n",
    "        parm = parameters[i]\n",
    "        smallDF = df[df[groupVar] == parm].copy()\n",
    "        smallDF.reset_index(drop=True, inplace=True)\n",
    "        dfMAST.append(smallDF)\n",
    "    return dfMAST\n",
    "\n"
   ]
  },
  {
   "cell_type": "code",
   "execution_count": null,
   "id": "0ff1ad53-a8f1-441b-b97b-f206aa222932",
   "metadata": {},
   "outputs": [],
   "source": [
    "partitionedDF = groupBy(refinedDF, \"Reaction ID\")"
   ]
  },
  {
   "cell_type": "code",
   "execution_count": null,
   "id": "4db2b5b3-29b6-4fe2-a9e0-c198826dbd15",
   "metadata": {},
   "outputs": [],
   "source": [
    "print(len(partitionedDF))\n"
   ]
  },
  {
   "cell_type": "code",
   "execution_count": null,
   "id": "95c84bee-966a-4581-a295-90d1c343b4e2",
   "metadata": {},
   "outputs": [],
   "source": [
    "columnsMAST = [\"ID\" , \"SMILES\" , \"Yield\" ,\"Catalyst\" ,  \"Source\"]\n",
    "masterDF = pd.DataFrame(columns=columnsMAST)\n",
    "for j in range (len(partitionedDF)):\n",
    "    smallDF = partitionedDF[j]\n",
    "    reactionType = list(smallDF['Reaction'])\n",
    "    char = \".\"\n",
    "    found = any(char in string for string in reactionType)\n",
    "    #print(\"found\" , found)\n",
    "    if not found:\n",
    "        #print(\"newMolec\")\n",
    "        #goal is to group by catalyst type first before averaging the yield data \n",
    "        \n",
    "        catalystType = smallDF['Catalyst']\n",
    "        newCatList = np.where(pd.isna(catalystType), \"None\", catalystType)\n",
    "        yields = list(smallDF[\"Yield (numerical)\"])\n",
    "        print(\"YIELDS:\" , yields)\n",
    "        yieldsListMAST = []\n",
    "        yieldIndexList = []\n",
    "        for i in range (len(yields)):\n",
    "            try:\n",
    "                yield_ = float(yields[i])\n",
    "                yieldsListMAST.append(yield_)\n",
    "                yieldIndexList.append(i)\n",
    "            except ValueError:\n",
    "                print(\"ValueError\" ,i ,  yield_)\n",
    "                            \n",
    "                        \n",
    "        if len(yieldIndexList) != 0:\n",
    "            maxValue = max(yieldsListMAST)\n",
    "            if maxValue  <= 100.00:\n",
    "                #print(\"yieldsListMAST:\", yieldsListMAST)\n",
    "                #print(\"yieldIndexList:\", yieldIndexList)\n",
    "                maxIndices = [yieldIndexList[i] for i, val in enumerate(yieldsListMAST) if val == maxValue]\n",
    "                #print(\"max Index\" , maxIndices)\n",
    "                targetInd = maxIndices[0]\n",
    "                newIndexList = [targetInd]\n",
    "                #print(\"targetInd\" , targetInd)\n",
    "                #print(\"newCatList\" , newCatList)\n",
    "                finalCat = newCatList[targetInd]\n",
    "                for i, catalyst in enumerate (newCatList):\n",
    "                    #print(catalyst)\n",
    "                    if i != targetInd:\n",
    "                        #print(\"pass\")\n",
    "                        similarity = JaroWinkler.similarity(catalyst, finalCat)\n",
    "                        #print(\"similarity\" , similarity)\n",
    "                        if similarity >= 0.75:\n",
    "                            newIndexList.append(i)\n",
    "                newYieldsList = []\n",
    "                #print(\"newIndexList\" , newIndexList)\n",
    "                #print(yieldsListMAST)\n",
    "                for i, ind in enumerate(newIndexList):\n",
    "                    newYieldsList.append(yieldsListMAST[ind])\n",
    "                finalYield = np.mean(newYieldsList)\n",
    "                reactionType = list(smallDF['Reaction'])\n",
    "                reaction = reactionType[targetInd]\n",
    "                smiles = str(reaction.split(\">\")[0])\n",
    "                refs = list(smallDF[\"References\"])\n",
    "                ref = refs[targetInd]\n",
    "                id_ = list(smallDF[\"Reaction ID\"])\n",
    "                idMAST = id_[targetInd]\n",
    "                masterDF.loc[len(masterDF)] = [idMAST , smiles, finalYield , finalCat , ref]\n",
    "                "
   ]
  },
  {
   "cell_type": "code",
   "execution_count": null,
   "id": "8b65048c-645e-4712-9ea2-1a3173fd9288",
   "metadata": {},
   "outputs": [],
   "source": [
    "masterDF.shape"
   ]
  },
  {
   "cell_type": "code",
   "execution_count": null,
   "id": "b188ec83-232c-41c8-af2e-ca24abc1d47f",
   "metadata": {},
   "outputs": [],
   "source": [
    "masterDF"
   ]
  },
  {
   "cell_type": "code",
   "execution_count": null,
   "id": "9a01347f-04a9-4e82-8480-f003d5344e59",
   "metadata": {},
   "outputs": [],
   "source": [
    "masterDF.to_excel(\"mCPBA3.xlsx\", index=False, engine=\"openpyxl\")"
   ]
  },
  {
   "cell_type": "code",
   "execution_count": null,
   "id": "c6536293-49c2-4fca-bb1c-a2cc40264a34",
   "metadata": {},
   "outputs": [],
   "source": [
    "while True:\n",
    "    raw_input = input(f\"Enter the string representations for partition (Ex: Mn,Manganese,Jacobsen): \")\n",
    "    partitionList = [part.strip() for part in raw_input.split(\",\")]\n",
    "    print(partitionList)\n",
    "    if len(partitionList) < 2 or any(part == '' for part in partitionList):\n",
    "        print(\"Invalid input. Please enter comma-separated values without empty parts (e.g., Mn,Manganese,Jacobsen).\")\n",
    "    else:\n",
    "        break "
   ]
  },
  {
   "cell_type": "code",
   "execution_count": null,
   "id": "6d7c529c-b0ef-4640-9e9e-3a0de0a291fe",
   "metadata": {},
   "outputs": [],
   "source": [
    "df = pd.read_excel(\"/home/danny/Downloads/UTF-8Reaxys_Exp_20250212_185249 copy.xlsx\" , engine=\"openpyxl\")\n",
    "if os.path.isfile(\"/home/danny/Code/stahl_ML_DataScience/reaxysProcessing/Example/columns.dat\"):\n",
    "    with open(\"/home/danny/Code/stahl_ML_DataScience/reaxysProcessing/Example/columns.dat\", \"r\") as file:\n",
    "        headers = [col.strip() for col in file.readline().split(\",\")]\n",
    "        print(headers)\n",
    "refinedDF = df[df[headers[2]].notna()].copy()\n",
    "refinedDF = refinedDF[refinedDF[headers[1]].notna()].copy()"
   ]
  },
  {
   "cell_type": "code",
   "execution_count": null,
   "id": "6dc9f989-f8a0-45ed-825e-bdef44d2c7bc",
   "metadata": {},
   "outputs": [],
   "source": [
    "refinedDF = refinedDF.drop(columns=[col for col in refinedDF.columns if col not in headers])\n",
    "refinedDF"
   ]
  },
  {
   "cell_type": "code",
   "execution_count": null,
   "id": "c406f046-d0ba-4a53-b7ca-f6736f121fb1",
   "metadata": {},
   "outputs": [],
   "source": [
    "reagentList = [\"NaOCl\" , \"bleach\" , \"sodium hypochlorite\"]\n"
   ]
  },
  {
   "cell_type": "code",
   "execution_count": null,
   "id": "90583683-3f8d-4122-84fc-5e66bb84a84a",
   "metadata": {},
   "outputs": [],
   "source": [
    "reagentList = [\"NaOCl\" , \"bleach\" , \"sodium hypochlorite\"]\n",
    "substrateDF = pd.DataFrame(columns=refinedDF.columns)\n",
    "\n",
    "for index, row in refinedDF.iterrows():\n",
    "    reagent = str(row[headers[3]])\n",
    "    if any(sub.lower() in reagent.lower() for sub in reagentList):\n",
    "        substrateDF = pd.concat([substrateDF, pd.DataFrame([row])], ignore_index=True)"
   ]
  },
  {
   "cell_type": "code",
   "execution_count": null,
   "id": "21ce9780-8f7b-498d-a2b5-64d6d7d8fc7f",
   "metadata": {},
   "outputs": [],
   "source": [
    "substrateDF"
   ]
  },
  {
   "cell_type": "code",
   "execution_count": null,
   "id": "424cd6bf-b2c8-4713-9a59-7e5e47277fda",
   "metadata": {},
   "outputs": [],
   "source": [
    "reactionDF = groupBy(substrateDF , \"Reaction ID\")"
   ]
  },
  {
   "cell_type": "code",
   "execution_count": null,
   "id": "e69c3ffe-924c-455a-b813-460ba11e0f99",
   "metadata": {},
   "outputs": [],
   "source": [
    "print(min([\"Mn\" , \"Manganese\" , \"Jacobsen\"] , key = len))"
   ]
  }
 ],
 "metadata": {
  "kernelspec": {
   "display_name": "Python 3 (ipykernel)",
   "language": "python",
   "name": "python3"
  },
  "language_info": {
   "codemirror_mode": {
    "name": "ipython",
    "version": 3
   },
   "file_extension": ".py",
   "mimetype": "text/x-python",
   "name": "python",
   "nbconvert_exporter": "python",
   "pygments_lexer": "ipython3",
   "version": "3.12.2"
  }
 },
 "nbformat": 4,
 "nbformat_minor": 5
}
