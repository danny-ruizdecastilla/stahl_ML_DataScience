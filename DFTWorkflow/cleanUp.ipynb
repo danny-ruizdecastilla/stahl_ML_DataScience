{
 "cells": [
  {
   "cell_type": "code",
   "execution_count": null,
   "id": "0fdb00ec-34c3-495b-a6cb-59fafa8152e8",
   "metadata": {},
   "outputs": [],
   "source": [
    "import pandas as pd\n",
    "import glob\n",
    "import numpy as np\n",
    "import os \n",
    "import sys\n"
   ]
  },
  {
   "cell_type": "code",
   "execution_count": null,
   "id": "508d1066-6200-4e19-b1d0-e30da4604560",
   "metadata": {},
   "outputs": [],
   "source": [
    "sheets = np.array(glob.glob( \"S*.xlsx\"))\n",
    "print(sheets)"
   ]
  },
  {
   "cell_type": "code",
   "execution_count": null,
   "id": "317d078d-4d3b-4c4a-814f-bbbca43649c0",
   "metadata": {},
   "outputs": [],
   "source": [
    "#Remove min, max, stdv, range columns that don't serve ML purposes \n",
    "phrases = [   \"Unnamed\" , \"SASA\" , \"5.0\" , \"range\" , \"volume\" , \"pyramidalization\" , \"4.0\" ]\n",
    "for i in range (len(sheets)):\n",
    "    df = pd.read_excel(sheets[i])\n",
    "    elimCol = [col for col in df.columns if any(phrase in col for phrase in phrases)]\n",
    "    df_filtered = df.drop(columns=elimCol)\n",
    "    allColumns = list(df_filtered.columns)\n",
    "    sterCol = [col for col in allColumns if \"Sterimol\" in col and \"Buried\" not in col]\n",
    "\n",
    "    dfNew = df_filtered.drop(columns = sterCol)\n",
    "    saveStr = \"Properties_MAST_\" + str(i) + \".xlsx\"\n",
    "\n",
    "    dfNew.to_excel(saveStr, index=False)"
   ]
  },
  {
   "cell_type": "code",
   "execution_count": null,
   "id": "2e83799e-58c6-4129-b3f0-6b41c3aee32e",
   "metadata": {},
   "outputs": [],
   "source": [
    "sheets2 = np.array(glob.glob( \"P*.xlsx\"))\n"
   ]
  },
  {
   "cell_type": "code",
   "execution_count": null,
   "id": "150a33f7-f17e-4f96-907f-54cc448e53fb",
   "metadata": {},
   "outputs": [],
   "source": [
    "allLabels = []\n",
    "for i in range (len(sheets2)):\n",
    "    print(i)\n",
    "    df = pd.read_excel(sheets2[i])\n",
    "    print(df.shape)\n",
    "    column_labels = df.columns.values\n",
    "    allLabels.append(column_labels)\n",
    "#Take all column headers for the new Summary_Properties_MAST into an array allLabels"
   ]
  },
  {
   "cell_type": "code",
   "execution_count": null,
   "id": "df5b0875-14dd-44ef-9108-1f6a4b2b4b9a",
   "metadata": {},
   "outputs": [],
   "source": [
    "#Remove min, max, stdv, range columns that don't serve ML purposes \n",
    "phrases = [   \"Unnamed\"  ]\n",
    "for i in range (len(sheets)):\n",
    "    df = pd.read_excel(sheets[i])\n",
    "    columns_to_remove = [col for col in df.columns if any(phrase in col for phrase in phrases)]\n",
    "    df_filtered = df.drop(columns=columns_to_remove)\n",
    "\n",
    "    saveStr = \"Properties_MAST_\" + str(i) + \".xlsx\"\n",
    "\n",
    "    df_filtered.to_excel(saveStr, index=False)"
   ]
  },
  {
   "cell_type": "code",
   "execution_count": null,
   "id": "ff9ffbcb-1dc5-4635-9cb2-3d5a00e04e31",
   "metadata": {},
   "outputs": [],
   "source": [
    "common = set(allLabels[0])\n",
    "for array in allLabels[1:]:\n",
    "    common.intersection_update(array)\n",
    "commonLabelsMAST = list(common)\n",
    "#Find intersections using python's integrated set (works through hashing and iteration)"
   ]
  },
  {
   "cell_type": "code",
   "execution_count": null,
   "id": "6192de02",
   "metadata": {},
   "outputs": [],
   "source": [
    "for i in range (len(sheets2)):\n",
    "    print(sheets2[i])\n",
    "    if i == 0:\n",
    "        df = pd.read_excel(sheets2[i])\n",
    "        #print(df)\n",
    "        df_MAST = df[commonLabelsMAST]\n",
    "        #print(df_MAST)\n",
    "    else:\n",
    "        df = pd.read_excel(sheets2[i])\n",
    "        rel_df = df[commonLabelsMAST]\n",
    "        \n",
    "        df_MAST = pd.concat([df_MAST, rel_df], axis=0)\n",
    "    print(df.shape)\n",
    "\n",
    "    print(df_MAST)\n",
    "#Take from the new Summary_Properties_MAST, only the data present in the columns of interest and concatenate "
   ]
  },
  {
   "cell_type": "code",
   "execution_count": null,
   "id": "aaf974d0-8bea-4116-bbd8-ff9cac492f41",
   "metadata": {
    "scrolled": true
   },
   "outputs": [],
   "source": [
    "df_sorted = df_MAST[sorted(df_MAST.columns)]\n",
    "\n",
    "print(df_sorted)\n",
    "#Revert to Smiles Structure \n",
    "df_sorted = df_sorted[[\"Compound_Name\"] + [col for col in df_sorted.columns if col != \"Compound_Name\"]]\n",
    "\n",
    "df_sorted.to_excel(\"sudipALKS_SummaryProps.xlsx\", index=False)"
   ]
  },
  {
   "cell_type": "code",
   "execution_count": null,
   "id": "e0560580-23a5-4086-a0c5-7befce24c04e",
   "metadata": {},
   "outputs": [],
   "source": [
    "#Load MASTER File \n",
    "df_MASTER = pd.read_excel(\"mCPBAALKS_SummaryProps.xlsx\")\n",
    "\n",
    "smilesDir = \"/Users/danielruiz/Downloads/mCPBA_Lit_Database_01_27_25/MasterDataFramemCPBA.csv\"\n",
    "\n",
    "nameDir = \"/Users/danielruiz/Downloads/mCPBA_Lit_Database_01_27_25/features/DFTInput/masterDF_KMeansClustered_mCPBA_rdkitmorganDFTInput.csv\"\n"
   ]
  },
  {
   "cell_type": "code",
   "execution_count": null,
   "id": "6b70dbce",
   "metadata": {},
   "outputs": [],
   "source": [
    "def convertCanonical(str):\n",
    "    from rdkit import Chem\n",
    "    print(str)\n",
    "    mol = Chem.MolFromSmiles(str)\n",
    "    canonical = Chem.MolToSmiles(mol, isomericSmiles=True, canonical=True)\n",
    "    return canonical"
   ]
  },
  {
   "cell_type": "code",
   "execution_count": null,
   "id": "473e528a-4db7-4fc0-b374-6ba3ba6d9120",
   "metadata": {},
   "outputs": [],
   "source": [
    "\n",
    "nameDF = pd.read_csv(nameDir)\n",
    "smilesDF = pd.read_csv(smilesDir)\n",
    "smilesDF.insert(5, \"Canonical\", 0)\n",
    "smiles_ =  list(smilesDF[\"SMILES\"])\n",
    "for i , smile in enumerate(smiles_):\n",
    "    canonical = convertCanonical(smile)\n",
    "    smilesDF[\"Canonical\"][i] = canonical\n"
   ]
  },
  {
   "cell_type": "code",
   "execution_count": null,
   "id": "4629d646-ac7b-4b0b-aec8-d5b697c70bc8",
   "metadata": {},
   "outputs": [],
   "source": [
    "scopeNames = nameDF['ID']\n",
    "scopeSMILES = smilesDF['SMILES']\n",
    "dfNames = df_MASTER['Compound_Name']\n",
    "yields = smilesDF['Yield']\n",
    "#print(df_MASTER)"
   ]
  },
  {
   "cell_type": "code",
   "execution_count": null,
   "id": "7f672560",
   "metadata": {},
   "outputs": [],
   "source": [
    "def insertIntoDataframe(df1 ,  connectingStr ,connectingStr2 ,  df2 , inputStr , indexInterest  ):\n",
    "    #First create an empty column of zeros at the index of interest and call it inputStr \n",
    "    df1.insert(indexInterest, inputStr, 0)\n",
    "    \n",
    "    col1 = list(df1[connectingStr])\n",
    "\n",
    "    col2 = list(df2[connectingStr2])\n",
    "    insertCol = list(df2[inputStr])\n",
    "    \n",
    "\n",
    "    for i , str in enumerate (col1):\n",
    "        if str in col2:\n",
    "            index = col2.index(str)\n",
    "            insertVal = insertCol[index]\n",
    "            #df1[inputStr][i] = insertVal\n",
    "            df1.loc[i, inputStr] = insertVal\n",
    "    return df1"
   ]
  },
  {
   "cell_type": "code",
   "execution_count": null,
   "id": "9be8fba6-293d-49fc-b5db-711e1ae40255",
   "metadata": {},
   "outputs": [],
   "source": [
    "display(df_MASTER)"
   ]
  },
  {
   "cell_type": "code",
   "execution_count": null,
   "id": "03b7d637-4d51-485a-b671-dac1d61782f0",
   "metadata": {},
   "outputs": [],
   "source": [
    "dfNew = insertIntoDataframe(df_MASTER ,  \"Compound_Name\" ,\"ID\" ,  nameDF , \"SMILES\" , 0  )"
   ]
  },
  {
   "cell_type": "code",
   "execution_count": null,
   "id": "a159bc15-c8cc-4e99-8509-51a667c95090",
   "metadata": {},
   "outputs": [],
   "source": []
  },
  {
   "cell_type": "code",
   "execution_count": null,
   "id": "00dd505c-351f-4b52-b703-1ba9cbc4b152",
   "metadata": {},
   "outputs": [],
   "source": [
    "display(dfNew)\n"
   ]
  },
  {
   "cell_type": "code",
   "execution_count": null,
   "id": "929adf5a-9510-4164-a775-777242dcf25b",
   "metadata": {},
   "outputs": [],
   "source": [
    "dfNew = insertIntoDataframe(dfNew ,  \"SMILES\" ,\"Canonical\" ,  smilesDF , \"Yield\" , 2  )"
   ]
  },
  {
   "cell_type": "code",
   "execution_count": null,
   "id": "ff1f7157",
   "metadata": {},
   "outputs": [],
   "source": [
    "display(dfNew)\n"
   ]
  },
  {
   "cell_type": "code",
   "execution_count": null,
   "id": "4814b36e",
   "metadata": {},
   "outputs": [],
   "source": [
    "import json\n",
    "alkenePool = \"/Users/danielruiz/Downloads/Alkenes/alkenePool/substratePool.json\"\n",
    "with open(alkenePool, 'r') as f:\n",
    "    alkeneDict = json.load(f)\n",
    "canonicalSMILES = list(alkeneDict.keys())"
   ]
  },
  {
   "cell_type": "code",
   "execution_count": null,
   "id": "c01adfba",
   "metadata": {},
   "outputs": [],
   "source": [
    "def convertCanonical(str):\n",
    "    from rdkit import Chem\n",
    "    mol = Chem.MolFromSmiles(str)\n",
    "    canonical = Chem.MolToSmiles(mol, isomericSmiles=True, canonical=True)\n",
    "    return canonical"
   ]
  },
  {
   "cell_type": "code",
   "execution_count": null,
   "id": "438dee31",
   "metadata": {},
   "outputs": [],
   "source": [
    "smiles1 = list(dfNew[\"SMILES\"])\n",
    "\n",
    "dfNew.insert(3, \"ChemistryType\", 0)\n",
    "for i , smile in enumerate(smiles1):\n",
    "    canonical = convertCanonical(smile)\n",
    "    if canonical in canonicalSMILES:\n",
    "        chemType = int(alkeneDict[canonical])\n",
    "        dfNew[\"ChemistryType\"][i] = chemType\n",
    "        \n",
    "    \n"
   ]
  },
  {
   "cell_type": "code",
   "execution_count": null,
   "id": "f7cae4a1",
   "metadata": {},
   "outputs": [],
   "source": [
    "dfNew.to_csv(\"mCPBAALKS_MASTDF.csv\", index=False)"
   ]
  },
  {
   "cell_type": "code",
   "execution_count": null,
   "id": "42381f58",
   "metadata": {},
   "outputs": [],
   "source": [
    "display(dfNew)\n"
   ]
  }
 ],
 "metadata": {
  "kernelspec": {
   "display_name": "Python 3 (ipykernel)",
   "language": "python",
   "name": "python3"
  },
  "language_info": {
   "codemirror_mode": {
    "name": "ipython",
    "version": 3
   },
   "file_extension": ".py",
   "mimetype": "text/x-python",
   "name": "python",
   "nbconvert_exporter": "python",
   "pygments_lexer": "ipython3",
   "version": "3.10.16"
  }
 },
 "nbformat": 4,
 "nbformat_minor": 5
}
